{
  "nbformat": 4,
  "nbformat_minor": 0,
  "metadata": {
    "colab": {
      "name": "Pre_processammento_census.ipynb",
      "provenance": [],
      "collapsed_sections": [],
      "authorship_tag": "ABX9TyPmTtdUZVxO1q3cnocye0uj",
      "include_colab_link": true
    },
    "kernelspec": {
      "name": "python3",
      "display_name": "Python 3"
    }
  },
  "cells": [
    {
      "cell_type": "markdown",
      "metadata": {
        "id": "view-in-github",
        "colab_type": "text"
      },
      "source": [
        "<a href=\"https://colab.research.google.com/github/vitor-o-s/ML_DS_from_A_to_Z/blob/master/Pre_processammento_census.ipynb\" target=\"_parent\"><img src=\"https://colab.research.google.com/assets/colab-badge.svg\" alt=\"Open In Colab\"/></a>"
      ]
    },
    {
      "cell_type": "markdown",
      "metadata": {
        "id": "wF3UYuQ1RsK4",
        "colab_type": "text"
      },
      "source": [
        "### Pré-processamento ###"
      ]
    },
    {
      "cell_type": "code",
      "metadata": {
        "id": "MoCqsqg0Rv2F",
        "colab_type": "code",
        "colab": {}
      },
      "source": [
        "import pandas as pd\n",
        "from sklearn.preprocessing import LabelEncoder, OneHotEncoder\n",
        "from sklearn.compose import ColumnTransformer\n",
        "from sklearn.preprocessing import StandardScaler\n",
        "from sklearn.metrics import confusion_matrix, accuracy_score"
      ],
      "execution_count": 0,
      "outputs": []
    },
    {
      "cell_type": "code",
      "metadata": {
        "id": "dG6XGjhmi1yD",
        "colab_type": "code",
        "colab": {}
      },
      "source": [
        "df = pd.read_csv('census.csv')"
      ],
      "execution_count": 0,
      "outputs": []
    },
    {
      "cell_type": "code",
      "metadata": {
        "id": "b7NhjqaIRz7V",
        "colab_type": "code",
        "colab": {}
      },
      "source": [
        "previsores = df.iloc[:, 0:14].values\n",
        "classe = df.iloc[:, 14].values"
      ],
      "execution_count": 0,
      "outputs": []
    },
    {
      "cell_type": "code",
      "metadata": {
        "id": "qSPplq1_Skwa",
        "colab_type": "code",
        "colab": {}
      },
      "source": [
        "labelencoder_previsores = LabelEncoder()"
      ],
      "execution_count": 0,
      "outputs": []
    },
    {
      "cell_type": "code",
      "metadata": {
        "id": "dTapV785SqAZ",
        "colab_type": "code",
        "colab": {}
      },
      "source": [
        "onehotencoder = ColumnTransformer(transformers=[(\"OneHot\", OneHotEncoder(),\n",
        "                                                 [1,3,5,6,7,8,9,13])],\n",
        "                                  remainder = 'passthrough')\n",
        "previsores = onehotencoder.fit_transform(previsores).toarray()"
      ],
      "execution_count": 0,
      "outputs": []
    },
    {
      "cell_type": "code",
      "metadata": {
        "id": "8D5U1asmTLgu",
        "colab_type": "code",
        "colab": {}
      },
      "source": [
        "labelencoder_classe = LabelEncoder()\n",
        "classe = labelencoder_classe.fit_transform(classe)"
      ],
      "execution_count": 0,
      "outputs": []
    },
    {
      "cell_type": "code",
      "metadata": {
        "id": "QphPRvTKTVGy",
        "colab_type": "code",
        "colab": {}
      },
      "source": [
        "scaler = StandardScaler()\n",
        "previsores = scaler.fit_transform(previsores)"
      ],
      "execution_count": 0,
      "outputs": []
    }
  ]
}